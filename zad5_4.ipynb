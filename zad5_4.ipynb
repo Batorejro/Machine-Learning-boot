{
  "nbformat": 4,
  "nbformat_minor": 0,
  "metadata": {
    "colab": {
      "provenance": [],
      "authorship_tag": "ABX9TyPviylI/2d6aArxSwbWbiJf",
      "include_colab_link": true
    },
    "kernelspec": {
      "name": "python3",
      "display_name": "Python 3"
    },
    "language_info": {
      "name": "python"
    }
  },
  "cells": [
    {
      "cell_type": "markdown",
      "metadata": {
        "id": "view-in-github",
        "colab_type": "text"
      },
      "source": [
        "<a href=\"https://colab.research.google.com/github/Batorejro/Machine-Learning-boot/blob/main/zad5_4.ipynb\" target=\"_parent\"><img src=\"https://colab.research.google.com/assets/colab-badge.svg\" alt=\"Open In Colab\"/></a>"
      ]
    },
    {
      "cell_type": "code",
      "execution_count": 10,
      "metadata": {
        "colab": {
          "base_uri": "https://localhost:8080/"
        },
        "id": "8FsWyQLWpfl1",
        "outputId": "2ab68086-2846-447a-fb85-1df57286de8c"
      },
      "outputs": [
        {
          "output_type": "stream",
          "name": "stdout",
          "text": [
            "24\n"
          ]
        }
      ],
      "source": [
        "#Klasy:\n",
        "#Rectangle - prostokąt\n",
        "#Square - kwadrat\n",
        "#Cube - sześcian\n",
        "\n",
        "\n",
        "\n",
        "\n",
        "\n",
        "class Rectangle():\n",
        "    def __init__(self, width, height):\n",
        "        self.width = width\n",
        "        self.height = height\n",
        "\n",
        "    def count_surface_area(self):\n",
        "        return self.width * self.height\n",
        "\n",
        "\n",
        "class Square(Rectangle):\n",
        "      def __init__(self, sideLength):\n",
        "        super().__init__(sideLength, sideLength)\n",
        "\n",
        "\n",
        "class Cube():\n",
        "    def __init__(self, square: Square):\n",
        "      self.square = square\n",
        "      self.height = square.height\n",
        "\n",
        "    def count_surface_area(self):\n",
        "        return self.square.count_surface_area() * 6\n",
        "\n",
        "    def count_volume(self):\n",
        "      return self.square.count_surface_area() * self.height\n",
        "\n",
        "\n",
        "class Cuboid():\n",
        "    def __init__(self, figure, depth):\n",
        "        self.base = figure\n",
        "        self.height = depth\n",
        "\n",
        "\n",
        "    def count_volume(self):\n",
        "      return self.base.count_surface_area() *  self.height\n",
        "\n",
        "cuboid = Cuboid(Rectangle(2, 3), 4)\n",
        "\n",
        "print(cuboid.count_volume())"
      ]
    }
  ]
}